{
 "cells": [
  {
   "cell_type": "code",
   "execution_count": 1,
   "id": "bf9173e6-c9e9-4f3f-8eb6-c3fbde9e9732",
   "metadata": {},
   "outputs": [
    {
     "name": "stdout",
     "output_type": "stream",
     "text": [
      "load d:\\miniconda3\\envs\\aps-mtrl-analysis\\lib\\site-packages\\ortools\\.libs\\zlib1.dll...\n",
      "load d:\\miniconda3\\envs\\aps-mtrl-analysis\\lib\\site-packages\\ortools\\.libs\\abseil_dll.dll...\n",
      "load d:\\miniconda3\\envs\\aps-mtrl-analysis\\lib\\site-packages\\ortools\\.libs\\utf8_validity.dll...\n",
      "load d:\\miniconda3\\envs\\aps-mtrl-analysis\\lib\\site-packages\\ortools\\.libs\\re2.dll...\n",
      "load d:\\miniconda3\\envs\\aps-mtrl-analysis\\lib\\site-packages\\ortools\\.libs\\libprotobuf.dll...\n",
      "load d:\\miniconda3\\envs\\aps-mtrl-analysis\\lib\\site-packages\\ortools\\.libs\\highs.dll...\n",
      "load d:\\miniconda3\\envs\\aps-mtrl-analysis\\lib\\site-packages\\ortools\\.libs\\ortools.dll...\n"
     ]
    }
   ],
   "source": [
    "import ortools"
   ]
  },
  {
   "cell_type": "code",
   "execution_count": 2,
   "id": "3aab9d02-8240-4b45-88a7-49ce4dd5f201",
   "metadata": {},
   "outputs": [],
   "source": [
    "import pandas as pd"
   ]
  },
  {
   "cell_type": "code",
   "execution_count": 44,
   "id": "2a743095-beb3-4a6a-a424-e562652da6b9",
   "metadata": {},
   "outputs": [
    {
     "data": {
      "text/html": [
       "<img src=\"问题描述.png\" >\n"
      ],
      "text/plain": [
       "<IPython.core.display.HTML object>"
      ]
     },
     "metadata": {},
     "output_type": "display_data"
    }
   ],
   "source": [
    "%%html\n",
    "<img src=\"问题描述.png\" >"
   ]
  },
  {
   "cell_type": "code",
   "execution_count": 49,
   "id": "1ce3038d-6368-4e2f-91c5-9cb7bddf0ff2",
   "metadata": {},
   "outputs": [
    {
     "name": "stderr",
     "output_type": "stream",
     "text": [
      "C:\\Users\\wangc\\AppData\\Local\\Temp\\ipykernel_22420\\2138812539.py:4: FutureWarning: Downcasting object dtype arrays on .fillna, .ffill, .bfill is deprecated and will change in a future version. Call result.infer_objects(copy=False) instead. To opt-in to the future behavior, set `pd.set_option('future.no_silent_downcasting', True)`\n",
      "  line_cnt_df.fillna(0, inplace=True)\n"
     ]
    },
    {
     "data": {
      "text/html": [
       "<div>\n",
       "<style scoped>\n",
       "    .dataframe tbody tr th:only-of-type {\n",
       "        vertical-align: middle;\n",
       "    }\n",
       "\n",
       "    .dataframe tbody tr th {\n",
       "        vertical-align: top;\n",
       "    }\n",
       "\n",
       "    .dataframe thead th {\n",
       "        text-align: right;\n",
       "    }\n",
       "</style>\n",
       "<table border=\"1\" class=\"dataframe\">\n",
       "  <thead>\n",
       "    <tr style=\"text-align: right;\">\n",
       "      <th></th>\n",
       "      <th>A</th>\n",
       "      <th>B</th>\n",
       "      <th>C</th>\n",
       "      <th>D</th>\n",
       "      <th>E</th>\n",
       "      <th>F</th>\n",
       "    </tr>\n",
       "  </thead>\n",
       "  <tbody>\n",
       "    <tr>\n",
       "      <th>A</th>\n",
       "      <td>0</td>\n",
       "      <td>0</td>\n",
       "      <td>0</td>\n",
       "      <td>0</td>\n",
       "      <td>0</td>\n",
       "      <td>1</td>\n",
       "    </tr>\n",
       "    <tr>\n",
       "      <th>B</th>\n",
       "      <td>0</td>\n",
       "      <td>0</td>\n",
       "      <td>2</td>\n",
       "      <td>0</td>\n",
       "      <td>0</td>\n",
       "      <td>0</td>\n",
       "    </tr>\n",
       "    <tr>\n",
       "      <th>C</th>\n",
       "      <td>0</td>\n",
       "      <td>0</td>\n",
       "      <td>0</td>\n",
       "      <td>0</td>\n",
       "      <td>0</td>\n",
       "      <td>0</td>\n",
       "    </tr>\n",
       "    <tr>\n",
       "      <th>D</th>\n",
       "      <td>0</td>\n",
       "      <td>1</td>\n",
       "      <td>0</td>\n",
       "      <td>0</td>\n",
       "      <td>0</td>\n",
       "      <td>0</td>\n",
       "    </tr>\n",
       "    <tr>\n",
       "      <th>E</th>\n",
       "      <td>0</td>\n",
       "      <td>0</td>\n",
       "      <td>0</td>\n",
       "      <td>3</td>\n",
       "      <td>0</td>\n",
       "      <td>0</td>\n",
       "    </tr>\n",
       "    <tr>\n",
       "      <th>F</th>\n",
       "      <td>0</td>\n",
       "      <td>0</td>\n",
       "      <td>0</td>\n",
       "      <td>0</td>\n",
       "      <td>0</td>\n",
       "      <td>0</td>\n",
       "    </tr>\n",
       "  </tbody>\n",
       "</table>\n",
       "</div>"
      ],
      "text/plain": [
       "   A  B  C  D  E  F\n",
       "A  0  0  0  0  0  1\n",
       "B  0  0  2  0  0  0\n",
       "C  0  0  0  0  0  0\n",
       "D  0  1  0  0  0  0\n",
       "E  0  0  0  3  0  0\n",
       "F  0  0  0  0  0  0"
      ]
     },
     "metadata": {},
     "output_type": "display_data"
    }
   ],
   "source": [
    "index = [ele for ele in 'ABCDEF']\n",
    "columns = index.copy()\n",
    "line_cnt_df = pd.DataFrame(index=index, columns=columns)\n",
    "line_cnt_df.fillna(0, inplace=True)\n",
    "line_cnt_df.loc['E','D'] = 3\n",
    "line_cnt_df.loc['B','C'] = 2\n",
    "line_cnt_df.loc['A','F'] = 1\n",
    "line_cnt_df.loc['D','B'] = 1\n",
    "display(line_cnt_df)"
   ]
  },
  {
   "cell_type": "code",
   "execution_count": 50,
   "id": "bc2f968a-54de-412a-9632-389557f0a772",
   "metadata": {},
   "outputs": [
    {
     "data": {
      "text/html": [
       "<div>\n",
       "<style scoped>\n",
       "    .dataframe tbody tr th:only-of-type {\n",
       "        vertical-align: middle;\n",
       "    }\n",
       "\n",
       "    .dataframe tbody tr th {\n",
       "        vertical-align: top;\n",
       "    }\n",
       "\n",
       "    .dataframe thead th {\n",
       "        text-align: right;\n",
       "    }\n",
       "</style>\n",
       "<table border=\"1\" class=\"dataframe\">\n",
       "  <thead>\n",
       "    <tr style=\"text-align: right;\">\n",
       "      <th></th>\n",
       "      <th>A</th>\n",
       "      <th>B</th>\n",
       "      <th>C</th>\n",
       "      <th>D</th>\n",
       "      <th>E</th>\n",
       "      <th>F</th>\n",
       "    </tr>\n",
       "  </thead>\n",
       "  <tbody>\n",
       "    <tr>\n",
       "      <th>A</th>\n",
       "      <td>0</td>\n",
       "      <td>1</td>\n",
       "      <td>2</td>\n",
       "      <td>14</td>\n",
       "      <td>7</td>\n",
       "      <td>7</td>\n",
       "    </tr>\n",
       "    <tr>\n",
       "      <th>B</th>\n",
       "      <td>1</td>\n",
       "      <td>0</td>\n",
       "      <td>3</td>\n",
       "      <td>13</td>\n",
       "      <td>8</td>\n",
       "      <td>8</td>\n",
       "    </tr>\n",
       "    <tr>\n",
       "      <th>C</th>\n",
       "      <td>2</td>\n",
       "      <td>3</td>\n",
       "      <td>0</td>\n",
       "      <td>15</td>\n",
       "      <td>5</td>\n",
       "      <td>5</td>\n",
       "    </tr>\n",
       "    <tr>\n",
       "      <th>D</th>\n",
       "      <td>14</td>\n",
       "      <td>13</td>\n",
       "      <td>15</td>\n",
       "      <td>0</td>\n",
       "      <td>17</td>\n",
       "      <td>20</td>\n",
       "    </tr>\n",
       "    <tr>\n",
       "      <th>E</th>\n",
       "      <td>7</td>\n",
       "      <td>8</td>\n",
       "      <td>5</td>\n",
       "      <td>17</td>\n",
       "      <td>0</td>\n",
       "      <td>3</td>\n",
       "    </tr>\n",
       "    <tr>\n",
       "      <th>F</th>\n",
       "      <td>7</td>\n",
       "      <td>8</td>\n",
       "      <td>5</td>\n",
       "      <td>20</td>\n",
       "      <td>3</td>\n",
       "      <td>0</td>\n",
       "    </tr>\n",
       "  </tbody>\n",
       "</table>\n",
       "</div>"
      ],
      "text/plain": [
       "    A   B   C   D   E   F\n",
       "A   0   1   2  14   7   7\n",
       "B   1   0   3  13   8   8\n",
       "C   2   3   0  15   5   5\n",
       "D  14  13  15   0  17  20\n",
       "E   7   8   5  17   0   3\n",
       "F   7   8   5  20   3   0"
      ]
     },
     "metadata": {},
     "output_type": "display_data"
    }
   ],
   "source": [
    "data = \"\"\"0,1,2,14,7,7\n",
    "1,0,3,13,8,8\n",
    "2,3,0,15,5,5\n",
    "14,13,15,0,17,20\n",
    "7,8,5,17,0,3\n",
    "7,8,5,20,3,0\"\"\"\n",
    "rslt = []\n",
    "for line in data.splitlines():\n",
    "    rslt.append([int(ele) for ele in line.strip().split(',')])\n",
    "index = [ele for ele in 'ABCDEF']\n",
    "columns = index.copy()\n",
    "cost_df = pd.DataFrame(rslt, index=index, columns=columns)\n",
    "display(cost_df)"
   ]
  },
  {
   "cell_type": "markdown",
   "id": "ea5dfb97-46d9-416d-bacc-fb6498050e52",
   "metadata": {},
   "source": [
    "## 问题分解\n",
    "1. 状态为执航中船只数量\n",
    "\n",
    "执航船只数量是固定的，为对应$$ \\sum_{i}^{e} (装船+卸船+航时_i)*航次_i , e= \\{(E,D),(B,C), (A,F),(D,B)\\}$$\n",
    "2. 状态为调度中船只数量\n",
    "\n",
    "优化港口之间的调度路线"
   ]
  },
  {
   "cell_type": "code",
   "execution_count": 51,
   "id": "42bf6671",
   "metadata": {},
   "outputs": [],
   "source": [
    "num_status = sum(line_cnt_df.values.flatten())"
   ]
  },
  {
   "cell_type": "code",
   "execution_count": 52,
   "id": "b758abe2",
   "metadata": {},
   "outputs": [],
   "source": [
    "import numpy as np"
   ]
  },
  {
   "cell_type": "code",
   "execution_count": 53,
   "id": "0be44322",
   "metadata": {},
   "outputs": [
    {
     "data": {
      "text/plain": [
       "array([[0, 0, 0, 0, 0, 2],\n",
       "       [0, 0, 2, 0, 0, 0],\n",
       "       [0, 0, 0, 0, 0, 0],\n",
       "       [0, 2, 0, 0, 0, 0],\n",
       "       [0, 0, 0, 2, 0, 0],\n",
       "       [0, 0, 0, 0, 0, 0]])"
      ]
     },
     "execution_count": 53,
     "metadata": {},
     "output_type": "execute_result"
    }
   ],
   "source": [
    "np.bool(line_cnt_df.values) *2"
   ]
  },
  {
   "cell_type": "code",
   "execution_count": 54,
   "id": "be2f28fe",
   "metadata": {},
   "outputs": [
    {
     "name": "stdout",
     "output_type": "stream",
     "text": [
      "91\n"
     ]
    }
   ],
   "source": [
    "n_service = np.sum(((line_cnt_df  * cost_df) +  (line_cnt_df*2)).values.flatten())\n",
    "print(n_service)"
   ]
  },
  {
   "cell_type": "markdown",
   "id": "fa181e78",
   "metadata": {},
   "source": [
    "## 调度部分\n",
    "\n",
    "### 各航线地的补充缺口"
   ]
  },
  {
   "cell_type": "code",
   "execution_count": 55,
   "id": "c6388709",
   "metadata": {},
   "outputs": [
    {
     "data": {
      "text/plain": [
       "A   -1\n",
       "B   -1\n",
       "C    2\n",
       "D    2\n",
       "E   -3\n",
       "F    1\n",
       "dtype: int64"
      ]
     },
     "execution_count": 55,
     "metadata": {},
     "output_type": "execute_result"
    }
   ],
   "source": [
    "(-line_cnt_df + line_cnt_df.T).sum(axis=1)"
   ]
  },
  {
   "cell_type": "markdown",
   "id": "1d34a00b",
   "metadata": {},
   "source": [
    "### 问题转化成如何调度才能使得每个港口的出入港口数相等，使得总天数耗用最少"
   ]
  },
  {
   "cell_type": "code",
   "execution_count": null,
   "id": "b1e96d7d",
   "metadata": {},
   "outputs": [],
   "source": [
    "from ortools.linear_solver import pywraplp\n"
   ]
  },
  {
   "cell_type": "code",
   "execution_count": 103,
   "id": "d731dc51",
   "metadata": {},
   "outputs": [],
   "source": [
    "solver = pywraplp.Solver.CreateSolver('SCIP')\n",
    "# Create the variables， cols -> index\n",
    "vars = pd.DataFrame(index=index, columns=columns)\n",
    "for i in index:\n",
    "    for j in index:\n",
    "        if i != j:\n",
    "            vars.loc[i,j] = solver.IntVar(0, 100, f'{i}_{j}')\n",
    "        else:\n",
    "            vars.loc[i,j] =  solver.IntVar(0, 0, f'{i}_{j}')"
   ]
  },
  {
   "cell_type": "code",
   "execution_count": 104,
   "id": "22693b83",
   "metadata": {},
   "outputs": [
    {
     "data": {
      "text/plain": [
       "<ortools.linear_solver.pywraplp.Constraint; proxy of <Swig Object of type 'operations_research::MPConstraint *' at 0x000001E1215BA810> >"
      ]
     },
     "execution_count": 104,
     "metadata": {},
     "output_type": "execute_result"
    }
   ],
   "source": [
    "solver.Add(solver.Sum(vars.loc['A',:]) >= 1)\n",
    "solver.Add(solver.Sum(vars.loc['B',:]) >= 1)\n",
    "solver.Add(solver.Sum(vars.loc['E',:]) >= 3)\n",
    "\n",
    "solver.Add(solver.Sum(vars.loc[:,'A']) <= 0)\n",
    "solver.Add(solver.Sum(vars.loc[:,'B']) <= 0)\n",
    "solver.Add(solver.Sum(vars.loc[:,'C']) <= 2)\n",
    "solver.Add(solver.Sum(vars.loc[:, 'D']) <= 2)\n",
    "solver.Add(solver.Sum(vars.loc[:,'E']) <= 0)\n",
    "solver.Add(solver.Sum(vars.loc[:, 'F']) <= 1)"
   ]
  },
  {
   "cell_type": "code",
   "execution_count": 105,
   "id": "37be2fe0",
   "metadata": {},
   "outputs": [],
   "source": [
    "# 最小化目标函数\n",
    "solver.Minimize(solver.Sum(vars.loc[i,j] * cost_df.loc[i,j] for i in index for j in index if i != j))"
   ]
  },
  {
   "cell_type": "code",
   "execution_count": 106,
   "id": "835578ea",
   "metadata": {},
   "outputs": [
    {
     "data": {
      "text/plain": [
       "0"
      ]
     },
     "execution_count": 106,
     "metadata": {},
     "output_type": "execute_result"
    }
   ],
   "source": [
    "solver.Solve()"
   ]
  },
  {
   "cell_type": "markdown",
   "id": "cee18be9",
   "metadata": {},
   "source": [
    "### 目标值为在调配途中的船只数量"
   ]
  },
  {
   "cell_type": "code",
   "execution_count": 112,
   "id": "8e16eff7",
   "metadata": {},
   "outputs": [
    {
     "data": {
      "text/plain": [
       "40.0"
      ]
     },
     "metadata": {},
     "output_type": "display_data"
    }
   ],
   "source": [
    "n_schedule = solver.Objective().Value()\n",
    "display(n_schedule)"
   ]
  },
  {
   "cell_type": "code",
   "execution_count": 110,
   "id": "fd116ec4",
   "metadata": {},
   "outputs": [
    {
     "data": {
      "text/html": [
       "<div>\n",
       "<style scoped>\n",
       "    .dataframe tbody tr th:only-of-type {\n",
       "        vertical-align: middle;\n",
       "    }\n",
       "\n",
       "    .dataframe tbody tr th {\n",
       "        vertical-align: top;\n",
       "    }\n",
       "\n",
       "    .dataframe thead th {\n",
       "        text-align: right;\n",
       "    }\n",
       "</style>\n",
       "<table border=\"1\" class=\"dataframe\">\n",
       "  <thead>\n",
       "    <tr style=\"text-align: right;\">\n",
       "      <th></th>\n",
       "      <th>A</th>\n",
       "      <th>B</th>\n",
       "      <th>C</th>\n",
       "      <th>D</th>\n",
       "      <th>E</th>\n",
       "      <th>F</th>\n",
       "    </tr>\n",
       "  </thead>\n",
       "  <tbody>\n",
       "    <tr>\n",
       "      <th>A</th>\n",
       "      <td>0.0</td>\n",
       "      <td>0.0</td>\n",
       "      <td>0.0</td>\n",
       "      <td>1.0</td>\n",
       "      <td>0.0</td>\n",
       "      <td>0.0</td>\n",
       "    </tr>\n",
       "    <tr>\n",
       "      <th>B</th>\n",
       "      <td>0.0</td>\n",
       "      <td>0.0</td>\n",
       "      <td>0.0</td>\n",
       "      <td>1.0</td>\n",
       "      <td>0.0</td>\n",
       "      <td>0.0</td>\n",
       "    </tr>\n",
       "    <tr>\n",
       "      <th>C</th>\n",
       "      <td>0.0</td>\n",
       "      <td>0.0</td>\n",
       "      <td>0.0</td>\n",
       "      <td>0.0</td>\n",
       "      <td>0.0</td>\n",
       "      <td>0.0</td>\n",
       "    </tr>\n",
       "    <tr>\n",
       "      <th>D</th>\n",
       "      <td>0.0</td>\n",
       "      <td>0.0</td>\n",
       "      <td>0.0</td>\n",
       "      <td>0.0</td>\n",
       "      <td>0.0</td>\n",
       "      <td>0.0</td>\n",
       "    </tr>\n",
       "    <tr>\n",
       "      <th>E</th>\n",
       "      <td>0.0</td>\n",
       "      <td>0.0</td>\n",
       "      <td>2.0</td>\n",
       "      <td>0.0</td>\n",
       "      <td>0.0</td>\n",
       "      <td>1.0</td>\n",
       "    </tr>\n",
       "    <tr>\n",
       "      <th>F</th>\n",
       "      <td>0.0</td>\n",
       "      <td>0.0</td>\n",
       "      <td>0.0</td>\n",
       "      <td>0.0</td>\n",
       "      <td>0.0</td>\n",
       "      <td>0.0</td>\n",
       "    </tr>\n",
       "  </tbody>\n",
       "</table>\n",
       "</div>"
      ],
      "text/plain": [
       "     A    B    C    D    E    F\n",
       "A  0.0  0.0  0.0  1.0  0.0  0.0\n",
       "B  0.0  0.0  0.0  1.0  0.0  0.0\n",
       "C  0.0  0.0  0.0  0.0  0.0  0.0\n",
       "D  0.0  0.0  0.0  0.0  0.0  0.0\n",
       "E  0.0  0.0  2.0  0.0  0.0  1.0\n",
       "F  0.0  0.0  0.0  0.0  0.0  0.0"
      ]
     },
     "execution_count": 110,
     "metadata": {},
     "output_type": "execute_result"
    }
   ],
   "source": [
    "vars.apply(lambda x: x.apply(lambda y: y.solution_value()))"
   ]
  },
  {
   "cell_type": "markdown",
   "id": "2a28464c",
   "metadata": {},
   "source": [
    "## 总共船只数量"
   ]
  },
  {
   "cell_type": "code",
   "execution_count": 116,
   "id": "075e7d6f",
   "metadata": {},
   "outputs": [
    {
     "data": {
      "text/plain": [
       "'Total cost: 131'"
      ]
     },
     "metadata": {},
     "output_type": "display_data"
    }
   ],
   "source": [
    "total = n_service + n_schedule\n",
    "display(f\"Total cost: {int(total)}\")"
   ]
  },
  {
   "cell_type": "markdown",
   "id": "b2d593bd",
   "metadata": {},
   "source": []
  }
 ],
 "metadata": {
  "kernelspec": {
   "display_name": "aps-mtrl-analysis",
   "language": "python",
   "name": "python3"
  },
  "language_info": {
   "codemirror_mode": {
    "name": "ipython",
    "version": 3
   },
   "file_extension": ".py",
   "mimetype": "text/x-python",
   "name": "python",
   "nbconvert_exporter": "python",
   "pygments_lexer": "ipython3",
   "version": "3.9.21"
  }
 },
 "nbformat": 4,
 "nbformat_minor": 5
}
